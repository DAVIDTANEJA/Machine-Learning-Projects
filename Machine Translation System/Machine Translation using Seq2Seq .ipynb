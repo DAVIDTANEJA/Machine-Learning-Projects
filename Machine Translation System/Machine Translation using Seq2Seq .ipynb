{
 "cells": [
  {
   "cell_type": "markdown",
   "metadata": {},
   "source": [
    "### Sequence-to-Sequence (seq2seq) :\n",
    "seq2seq models : are used for a variety of NLP tasks, such as : text summarization, speech recognition,\n",
    "DNA sequence modeling, NER (Named Entity Recognition) , Chatbot skills to have conversational ability and \n",
    "engage with customers , Question Answering systems. \n",
    "Here we translate given sentences from one language to another.                                                     \n",
    "\n",
    "A typical seq2seq model has 2 major components –                                                                               \n",
    "a) an encoder (Input Sequence)                                                                                             \n",
    "b) a decoder (Output Squence)                                                                                                \n",
    "\n",
    "Both these parts are essentially two different recurrent neural network (RNN) models combined into one giant network:"
   ]
  },
  {
   "cell_type": "markdown",
   "metadata": {},
   "source": [
    "<img src='enc_dec_2.png'>"
   ]
  },
  {
   "cell_type": "markdown",
   "metadata": {},
   "source": [
    "#### Here we convert a 'German sentence to its English' using a Neural Machine Translation (NMT) system, through Seq2Seq model using Keras.\n",
    "\n",
    "#### Get the data 'German-English' sentence pairs data from here : http://www.manythings.org/anki/."
   ]
  },
  {
   "cell_type": "markdown",
   "metadata": {},
   "source": [
    "#### Importing libraries"
   ]
  },
  {
   "cell_type": "code",
   "execution_count": 1,
   "metadata": {},
   "outputs": [
    {
     "name": "stderr",
     "output_type": "stream",
     "text": [
      "Using TensorFlow backend.\n"
     ]
    }
   ],
   "source": [
    "import pandas as pd\n",
    "import numpy as np\n",
    "from numpy import array, argmax, random, take\n",
    "import matplotlib.pyplot as plt\n",
    "%matplotlib inline\n",
    "\n",
    "import string\n",
    "import re\n",
    "\n",
    "from keras.models import Sequential\n",
    "from keras.layers import Dense, LSTM, Embedding, RepeatVector\n",
    "from keras.preprocessing.text import Tokenizer\n",
    "from keras.callbacks import ModelCheckpoint\n",
    "from keras.preprocessing.sequence import pad_sequences\n",
    "from keras.models import load_model\n",
    "from keras import optimizers"
   ]
  },
  {
   "cell_type": "markdown",
   "metadata": {},
   "source": [
    "### 1st we will read the file , Our data is a text file (.txt) of English-German sentence pairs. "
   ]
  },
  {
   "cell_type": "code",
   "execution_count": 2,
   "metadata": {},
   "outputs": [],
   "source": [
    "# with open('deu.txt', mode='rt', encoding='utf-8') as f:                           # 1. python 'with open' method\n",
    "#     data = f.read()"
   ]
  },
  {
   "cell_type": "code",
   "execution_count": 3,
   "metadata": {
    "scrolled": true
   },
   "outputs": [
    {
     "data": {
      "text/html": [
       "<div>\n",
       "<style scoped>\n",
       "    .dataframe tbody tr th:only-of-type {\n",
       "        vertical-align: middle;\n",
       "    }\n",
       "\n",
       "    .dataframe tbody tr th {\n",
       "        vertical-align: top;\n",
       "    }\n",
       "\n",
       "    .dataframe thead th {\n",
       "        text-align: right;\n",
       "    }\n",
       "</style>\n",
       "<table border=\"1\" class=\"dataframe\">\n",
       "  <thead>\n",
       "    <tr style=\"text-align: right;\">\n",
       "      <th></th>\n",
       "      <th>eng</th>\n",
       "      <th>ger</th>\n",
       "    </tr>\n",
       "  </thead>\n",
       "  <tbody>\n",
       "    <tr>\n",
       "      <th>0</th>\n",
       "      <td>Hi.</td>\n",
       "      <td>Hallo!</td>\n",
       "    </tr>\n",
       "    <tr>\n",
       "      <th>1</th>\n",
       "      <td>Hi.</td>\n",
       "      <td>Grüß Gott!</td>\n",
       "    </tr>\n",
       "    <tr>\n",
       "      <th>2</th>\n",
       "      <td>Run!</td>\n",
       "      <td>Lauf!</td>\n",
       "    </tr>\n",
       "    <tr>\n",
       "      <th>3</th>\n",
       "      <td>Wow!</td>\n",
       "      <td>Potzdonner!</td>\n",
       "    </tr>\n",
       "    <tr>\n",
       "      <th>4</th>\n",
       "      <td>Wow!</td>\n",
       "      <td>Donnerwetter!</td>\n",
       "    </tr>\n",
       "  </tbody>\n",
       "</table>\n",
       "</div>"
      ],
      "text/plain": [
       "    eng            ger\n",
       "0   Hi.         Hallo!\n",
       "1   Hi.     Grüß Gott!\n",
       "2  Run!          Lauf!\n",
       "3  Wow!    Potzdonner!\n",
       "4  Wow!  Donnerwetter!"
      ]
     },
     "execution_count": 3,
     "metadata": {},
     "output_type": "execute_result"
    }
   ],
   "source": [
    "data = pd.read_csv('deu.txt', encoding='utf-8', sep='\\t', header=None, names=['eng', 'ger'])    # 2. using pandas method\n",
    "data.head()"
   ]
  },
  {
   "cell_type": "code",
   "execution_count": 4,
   "metadata": {},
   "outputs": [],
   "source": [
    "deu_eng = np.array(data)       # read the text into an array "
   ]
  },
  {
   "cell_type": "markdown",
   "metadata": {},
   "source": [
    "#### The actual data contains more than 150,000 sentence-pairs. However, we will use only the first 20,000 sentence pairs to reduce the training time of the model."
   ]
  },
  {
   "cell_type": "code",
   "execution_count": 5,
   "metadata": {},
   "outputs": [
    {
     "data": {
      "text/plain": [
       "array([['Hi.', 'Hallo!'],\n",
       "       ['Hi.', 'Grüß Gott!'],\n",
       "       ['Run!', 'Lauf!'],\n",
       "       ...,\n",
       "       ['Sign the contract.', 'Unterschreibt den Vertrag.'],\n",
       "       ['Silence is golden.', 'Schweigen ist Gold.'],\n",
       "       ['Silk is expensive.', 'Seide ist teuer.']], dtype=object)"
      ]
     },
     "execution_count": 5,
     "metadata": {},
     "output_type": "execute_result"
    }
   ],
   "source": [
    "deu_eng = deu_eng[:20000, :]             # using only 20000 sentences\n",
    "deu_eng"
   ]
  },
  {
   "cell_type": "markdown",
   "metadata": {},
   "source": [
    "### Now we will remove the punctuations and then convert all the text to lower case."
   ]
  },
  {
   "cell_type": "code",
   "execution_count": 6,
   "metadata": {},
   "outputs": [],
   "source": [
    "deu_eng[:,0] = [s.translate(str.maketrans('', '', string.punctuation)) for s in deu_eng[:,0]]\n",
    "deu_eng[:,1] = [s.translate(str.maketrans('', '', string.punctuation)) for s in deu_eng[:,1]]"
   ]
  },
  {
   "cell_type": "code",
   "execution_count": 7,
   "metadata": {},
   "outputs": [],
   "source": [
    "for i in range(len(deu_eng)):\n",
    "    deu_eng[i,0] = deu_eng[i,0].lower()\n",
    "    deu_eng[i,1] = deu_eng[i,1].lower()"
   ]
  },
  {
   "cell_type": "code",
   "execution_count": 8,
   "metadata": {},
   "outputs": [
    {
     "data": {
      "text/plain": [
       "array([['hi', 'hallo'],\n",
       "       ['hi', 'grüß gott'],\n",
       "       ['run', 'lauf'],\n",
       "       ...,\n",
       "       ['sign the contract', 'unterschreibt den vertrag'],\n",
       "       ['silence is golden', 'schweigen ist gold'],\n",
       "       ['silk is expensive', 'seide ist teuer']], dtype=object)"
      ]
     },
     "execution_count": 8,
     "metadata": {},
     "output_type": "execute_result"
    }
   ],
   "source": [
    "deu_eng"
   ]
  },
  {
   "cell_type": "markdown",
   "metadata": {},
   "source": [
    "### A Seq2Seq model requires that convert both the input and the output sentences into integer sequences of fixed length. But 1st we will capture the lengths of all the sentences in two separate lists for English and German."
   ]
  },
  {
   "cell_type": "code",
   "execution_count": 9,
   "metadata": {},
   "outputs": [],
   "source": [
    "eng_l = [len(i.split()) for i in deu_eng[:,0]]   # english sentence length list\n",
    "deu_l = [len(i.split()) for i in deu_eng[:,1]]   # german sentence length list"
   ]
  },
  {
   "cell_type": "code",
   "execution_count": 10,
   "metadata": {},
   "outputs": [
    {
     "data": {
      "image/png": "[encoded data removed]",
      "text/plain": [
       "<Figure size 432x288 with 2 Axes>"
      ]
     },
     "metadata": {
      "needs_background": "light"
     },
     "output_type": "display_data"
    }
   ],
   "source": [
    "length_df = pd.DataFrame({'eng':eng_l, 'ger':deu_l})     # creating dataframe of length of both lists and plot it.\n",
    "\n",
    "length_df.hist(bins=30)\n",
    "plt.show()"
   ]
  },
  {
   "cell_type": "markdown",
   "metadata": {},
   "source": [
    "#### The maximum length of the German sentences is 8 and that of the English phrases is 5."
   ]
  },
  {
   "cell_type": "markdown",
   "metadata": {},
   "source": [
    "### Now, vectorize our text data by using Keras’s Tokenizer() class. It will turn our sentences into sequences of integers. We can then pad those sequences with zeros to make all the sequences of the same length."
   ]
  },
  {
   "cell_type": "code",
   "execution_count": 11,
   "metadata": {},
   "outputs": [],
   "source": [
    "def tokenization(lines):                         # function to build a tokenizer\n",
    "    tokenizer = Tokenizer()\n",
    "    tokenizer.fit_on_texts(lines)\n",
    "    return tokenizer"
   ]
  },
  {
   "cell_type": "code",
   "execution_count": 12,
   "metadata": {},
   "outputs": [],
   "source": [
    "eng_tokenizer = tokenization(deu_eng[:, 0])               # english tokenizer \n",
    "eng_vocab_size = len(eng_tokenizer.word_index) + 1        # gives length\n",
    "\n",
    "deu_tokenizer = tokenization(deu_eng[:, 1])              # german tokenizer\n",
    "deu_vocab_size = len(deu_tokenizer.word_index) + 1       # length of it "
   ]
  },
  {
   "cell_type": "code",
   "execution_count": 13,
   "metadata": {},
   "outputs": [
    {
     "name": "stdout",
     "output_type": "stream",
     "text": [
      "English Vocabulary Size:  3707\n",
      "Deutch Vocabulary Size:  5822\n"
     ]
    }
   ],
   "source": [
    "eng_length = 5\n",
    "deu_length = 5\n",
    "\n",
    "print('English Vocabulary Size: ', eng_vocab_size)\n",
    "print('Deutch Vocabulary Size: ', deu_vocab_size)"
   ]
  },
  {
   "cell_type": "markdown",
   "metadata": {},
   "source": [
    "### This function to prepare the sequences. It also perform sequence padding to a maximum sentence length."
   ]
  },
  {
   "cell_type": "code",
   "execution_count": 14,
   "metadata": {},
   "outputs": [],
   "source": [
    "def encode_sequences(tokenizer, length, lines):                  # encode and pad sequences\n",
    "    \n",
    "    # integer encode sequences\n",
    "    seq = tokenizer.texts_to_sequences(lines)\n",
    "    \n",
    "    # pad sequences with 0 values\n",
    "    seq = pad_sequences(seq, maxlen=length, padding='post')\n",
    "    return seq"
   ]
  },
  {
   "cell_type": "markdown",
   "metadata": {},
   "source": [
    "### split the data into train and test set "
   ]
  },
  {
   "cell_type": "code",
   "execution_count": 15,
   "metadata": {},
   "outputs": [],
   "source": [
    "from sklearn.model_selection import train_test_split\n",
    "\n",
    "train, test = train_test_split(deu_eng, test_size=0.2, random_state = 12)"
   ]
  },
  {
   "cell_type": "markdown",
   "metadata": {},
   "source": [
    "### Now we encode 'German sentences' as the input sequences and 'English sentences' as the target sequences. This has to be done for both the train and test datasets."
   ]
  },
  {
   "cell_type": "code",
   "execution_count": 16,
   "metadata": {},
   "outputs": [],
   "source": [
    "# prepare training data\n",
    "trainX = encode_sequences(deu_tokenizer, deu_length, train[:, 1])\n",
    "trainY = encode_sequences(eng_tokenizer, eng_length, train[:, 0])\n",
    "\n",
    "# prepare validation data\n",
    "testX = encode_sequences(deu_tokenizer, deu_length, test[:, 1])\n",
    "testY = encode_sequences(eng_tokenizer, eng_length, test[:, 0])"
   ]
  },
  {
   "cell_type": "markdown",
   "metadata": {},
   "source": [
    "#### Seq2Seq model architecture:\n",
    "\n",
    "->For the encoder, we will use an embedding layer and an LSTM layer.                                                          \n",
    "->For the decoder, we will use another LSTM layer followed by a Dense layer.\n",
    "\n",
    "<img src='seq2seq.png'>"
   ]
  },
  {
   "cell_type": "markdown",
   "metadata": {},
   "source": [
    "## Build the Model"
   ]
  },
  {
   "cell_type": "code",
   "execution_count": 17,
   "metadata": {
    "scrolled": false
   },
   "outputs": [
    {
     "name": "stdout",
     "output_type": "stream",
     "text": [
      "WARNING:tensorflow:From C:\\ProgramData\\Anaconda3\\lib\\site-packages\\tensorflow\\python\\framework\\op_def_library.py:263: colocate_with (from tensorflow.python.framework.ops) is deprecated and will be removed in a future version.\n",
      "Instructions for updating:\n",
      "Colocations handled automatically by placer.\n",
      "_________________________________________________________________\n",
      "Layer (type)                 Output Shape              Param #   \n",
      "=================================================================\n",
      "embedding_1 (Embedding)      (None, 5, 512)            2980864   \n",
      "_________________________________________________________________\n",
      "lstm_1 (LSTM)                (None, 512)               2099200   \n",
      "_________________________________________________________________\n",
      "repeat_vector_1 (RepeatVecto (None, 5, 512)            0         \n",
      "_________________________________________________________________\n",
      "lstm_2 (LSTM)                (None, 5, 512)            2099200   \n",
      "_________________________________________________________________\n",
      "dense_1 (Dense)              (None, 5, 3707)           1901691   \n",
      "=================================================================\n",
      "Total params: 9,080,955\n",
      "Trainable params: 9,080,955\n",
      "Non-trainable params: 0\n",
      "_________________________________________________________________\n"
     ]
    }
   ],
   "source": [
    "model = Sequential()\n",
    "model.add(Embedding(deu_vocab_size, 512, input_length=deu_length, mask_zero=True))\n",
    "model.add(LSTM(512))\n",
    "model.add(RepeatVector(eng_length))\n",
    "model.add(LSTM(512, return_sequences=True))\n",
    "model.add(Dense(eng_vocab_size, activation='softmax'))\n",
    "\n",
    "model.summary()"
   ]
  },
  {
   "cell_type": "code",
   "execution_count": 18,
   "metadata": {},
   "outputs": [],
   "source": [
    "rms = optimizers.RMSprop(lr=0.001)     # RMSprop optimizer goes well with RNN\n",
    "\n",
    "model.compile(optimizer=rms, loss='sparse_categorical_crossentropy')"
   ]
  },
  {
   "cell_type": "markdown",
   "metadata": {},
   "source": [
    "#### Note : that we have used ‘sparse_categorical_crossentropy‘ as the loss function. This is because the function allows us to use the target sequence as is, instead of the one-hot encoded format. One-hot encoding the target sequences using such a huge vocabulary might consume our system’s entire memory.\n",
    "\n",
    "#### We are also using the ModelCheckpoint() function to save the model with the lowest validation loss."
   ]
  },
  {
   "cell_type": "code",
   "execution_count": 19,
   "metadata": {
    "scrolled": false
   },
   "outputs": [
    {
     "name": "stdout",
     "output_type": "stream",
     "text": [
      "WARNING:tensorflow:From C:\\ProgramData\\Anaconda3\\lib\\site-packages\\tensorflow\\python\\ops\\math_ops.py:3066: to_int32 (from tensorflow.python.ops.math_ops) is deprecated and will be removed in a future version.\n",
      "Instructions for updating:\n",
      "Use tf.cast instead.\n",
      "WARNING:tensorflow:From C:\\ProgramData\\Anaconda3\\lib\\site-packages\\tensorflow\\python\\ops\\math_grad.py:102: div (from tensorflow.python.ops.math_ops) is deprecated and will be removed in a future version.\n",
      "Instructions for updating:\n",
      "Deprecated in favor of operator or tf.math.divide.\n",
      "Train on 12800 samples, validate on 3200 samples\n",
      "Epoch 1/20\n",
      " 1024/12800 [=>............................] - ETA: 23:08 - loss: 8.2047"
     ]
    },
    {
     "name": "stderr",
     "output_type": "stream",
     "text": [
      "C:\\ProgramData\\Anaconda3\\lib\\site-packages\\keras\\callbacks.py:122: UserWarning: Method on_batch_end() is slow compared to the batch update (18.010302). Check your callbacks.\n",
      "  % delta_t_median)\n"
     ]
    },
    {
     "name": "stdout",
     "output_type": "stream",
     "text": [
      "12800/12800 [==============================] - 229s 18ms/step - loss: 5.0502 - val_loss: 4.1020\n",
      "\n",
      "Epoch 00001: val_loss improved from inf to 4.10195, saving model to model.seq2seq\n",
      "Epoch 2/20\n",
      "12800/12800 [==============================] - 88s 7ms/step - loss: 3.9166 - val_loss: 3.9254\n",
      "\n",
      "Epoch 00002: val_loss improved from 4.10195 to 3.92543, saving model to model.seq2seq\n",
      "Epoch 3/20\n",
      "12800/12800 [==============================] - 89s 7ms/step - loss: 3.7507 - val_loss: 3.8036\n",
      "\n",
      "Epoch 00003: val_loss improved from 3.92543 to 3.80364, saving model to model.seq2seq\n",
      "Epoch 4/20\n",
      "12800/12800 [==============================] - 90s 7ms/step - loss: 3.6435 - val_loss: 3.7004\n",
      "\n",
      "Epoch 00004: val_loss improved from 3.80364 to 3.70039, saving model to model.seq2seq\n",
      "Epoch 5/20\n",
      "12800/12800 [==============================] - 89s 7ms/step - loss: 3.4954 - val_loss: 3.6047\n",
      "\n",
      "Epoch 00005: val_loss improved from 3.70039 to 3.60468, saving model to model.seq2seq\n",
      "Epoch 6/20\n",
      "12800/12800 [==============================] - 91s 7ms/step - loss: 3.3621 - val_loss: 3.5033\n",
      "\n",
      "Epoch 00006: val_loss improved from 3.60468 to 3.50334, saving model to model.seq2seq\n",
      "Epoch 7/20\n",
      "12800/12800 [==============================] - 89s 7ms/step - loss: 3.2250 - val_loss: 3.3910\n",
      "\n",
      "Epoch 00007: val_loss improved from 3.50334 to 3.39095, saving model to model.seq2seq\n",
      "Epoch 8/20\n",
      "12800/12800 [==============================] - 90s 7ms/step - loss: 3.1054 - val_loss: 3.3280\n",
      "\n",
      "Epoch 00008: val_loss improved from 3.39095 to 3.32798, saving model to model.seq2seq\n",
      "Epoch 9/20\n",
      "12800/12800 [==============================] - 95s 7ms/step - loss: 2.9932 - val_loss: 3.2687\n",
      "\n",
      "Epoch 00009: val_loss improved from 3.32798 to 3.26873, saving model to model.seq2seq\n",
      "Epoch 10/20\n",
      "12800/12800 [==============================] - 102s 8ms/step - loss: 2.8943 - val_loss: 3.2760\n",
      "\n",
      "Epoch 00010: val_loss did not improve from 3.26873\n",
      "Epoch 11/20\n",
      "12800/12800 [==============================] - 96s 8ms/step - loss: 2.8079 - val_loss: 3.1943\n",
      "\n",
      "Epoch 00011: val_loss improved from 3.26873 to 3.19434, saving model to model.seq2seq\n",
      "Epoch 12/20\n",
      "12800/12800 [==============================] - 96s 7ms/step - loss: 2.7096 - val_loss: 3.1458\n",
      "\n",
      "Epoch 00012: val_loss improved from 3.19434 to 3.14580, saving model to model.seq2seq\n",
      "Epoch 13/20\n",
      "12800/12800 [==============================] - 102s 8ms/step - loss: 2.6299 - val_loss: 3.0724\n",
      "\n",
      "Epoch 00013: val_loss improved from 3.14580 to 3.07243, saving model to model.seq2seq\n",
      "Epoch 14/20\n",
      "12800/12800 [==============================] - 141s 11ms/step - loss: 2.5331 - val_loss: 3.0096\n",
      "\n",
      "Epoch 00014: val_loss improved from 3.07243 to 3.00962, saving model to model.seq2seq\n",
      "Epoch 15/20\n",
      "12800/12800 [==============================] - 99s 8ms/step - loss: 2.4530 - val_loss: 2.9786\n",
      "\n",
      "Epoch 00015: val_loss improved from 3.00962 to 2.97859, saving model to model.seq2seq\n",
      "Epoch 16/20\n",
      "12800/12800 [==============================] - 98s 8ms/step - loss: 2.3692 - val_loss: 2.9229\n",
      "\n",
      "Epoch 00016: val_loss improved from 2.97859 to 2.92291, saving model to model.seq2seq\n",
      "Epoch 17/20\n",
      "12800/12800 [==============================] - 99s 8ms/step - loss: 2.2868 - val_loss: 2.9020\n",
      "\n",
      "Epoch 00017: val_loss improved from 2.92291 to 2.90199, saving model to model.seq2seq\n",
      "Epoch 18/20\n",
      "12800/12800 [==============================] - 104s 8ms/step - loss: 2.2175 - val_loss: 2.8714\n",
      "\n",
      "Epoch 00018: val_loss improved from 2.90199 to 2.87143, saving model to model.seq2seq\n",
      "Epoch 19/20\n",
      "12800/12800 [==============================] - 99s 8ms/step - loss: 2.1406 - val_loss: 2.8796\n",
      "\n",
      "Epoch 00019: val_loss did not improve from 2.87143\n",
      "Epoch 20/20\n",
      "12800/12800 [==============================] - 94s 7ms/step - loss: 2.0704 - val_loss: 2.8050\n",
      "\n",
      "Epoch 00020: val_loss improved from 2.87143 to 2.80498, saving model to model.seq2seq\n"
     ]
    }
   ],
   "source": [
    "filename = 'model.seq2seq'\n",
    "checkpoint = ModelCheckpoint(filename, monitor='val_loss', verbose=1, save_best_only=True, mode='min')\n",
    "\n",
    "history = model.fit(trainX, trainY.reshape(trainY.shape[0], trainY.shape[1], 1), epochs=20, batch_size=512, \n",
    "                    validation_split=0.2, callbacks=[checkpoint], verbose=1)"
   ]
  },
  {
   "cell_type": "markdown",
   "metadata": {},
   "source": [
    "### compare the training loss and the validation loss."
   ]
  },
  {
   "cell_type": "code",
   "execution_count": 20,
   "metadata": {},
   "outputs": [
    {
     "data": {
      "image/png": "[encoded data removed]",
      "text/plain": [
       "<Figure size 432x288 with 1 Axes>"
      ]
     },
     "metadata": {
      "needs_background": "light"
     },
     "output_type": "display_data"
    }
   ],
   "source": [
    "plt.plot(history.history['loss'])\n",
    "plt.plot(history.history['val_loss'])\n",
    "\n",
    "plt.legend(['train','validation'])\n",
    "plt.show()"
   ]
  },
  {
   "cell_type": "markdown",
   "metadata": {},
   "source": [
    "#### the validation loss stopped decreasing after 15 epochs"
   ]
  },
  {
   "cell_type": "markdown",
   "metadata": {},
   "source": [
    "### Now we load the saved model and make predictions on the data – testX."
   ]
  },
  {
   "cell_type": "code",
   "execution_count": 21,
   "metadata": {},
   "outputs": [],
   "source": [
    "model = load_model('model.seq2seq')    # load the model\n",
    "\n",
    "pred = model.predict_classes(testX.reshape((testX.shape[0],testX.shape[1])))    # predict on 'testX' data"
   ]
  },
  {
   "cell_type": "code",
   "execution_count": 22,
   "metadata": {},
   "outputs": [
    {
     "data": {
      "text/plain": [
       "array([[   1,    3,    0,    0,    0],\n",
       "       [   7,   44,   11,    0,    0],\n",
       "       [   8,   10,   13,    0,    0],\n",
       "       ...,\n",
       "       [  64,    6, 1268,    0,    0],\n",
       "       [   5,   10,    0,    0,    0],\n",
       "       [   7,    6,   11,    0,    0]], dtype=int64)"
      ]
     },
     "execution_count": 22,
     "metadata": {},
     "output_type": "execute_result"
    }
   ],
   "source": [
    "pred               # These predictions are sequence of integers."
   ]
  },
  {
   "cell_type": "markdown",
   "metadata": {},
   "source": [
    "#### Converting these integers to their corresponding words"
   ]
  },
  {
   "cell_type": "code",
   "execution_count": 23,
   "metadata": {},
   "outputs": [],
   "source": [
    "def get_word(n, tokenizer):\n",
    "    for word, index in tokenizer.word_index.items():\n",
    "        if index == n:\n",
    "            return word\n",
    "    return None"
   ]
  },
  {
   "cell_type": "code",
   "execution_count": 24,
   "metadata": {},
   "outputs": [],
   "source": [
    "# Convert 'pred' predictions into text (English)\n",
    "\n",
    "preds_text = []     # store in this text\n",
    "for i in pred:\n",
    "    temp = []\n",
    "    for j in range(len(i)):\n",
    "        t = get_word(i[j], eng_tokenizer)\n",
    "        \n",
    "        if j > 0:\n",
    "            if (t == get_word(i[j-1], eng_tokenizer)) or (t == None):\n",
    "                temp.append('')\n",
    "            else:\n",
    "                temp.append(t)\n",
    "        \n",
    "        else:\n",
    "            if(t == None):\n",
    "                temp.append('')\n",
    "            else:\n",
    "                temp.append(t) \n",
    "\n",
    "    preds_text.append(' '.join(temp))"
   ]
  },
  {
   "cell_type": "code",
   "execution_count": 29,
   "metadata": {},
   "outputs": [
    {
     "data": {
      "text/html": [
       "<div>\n",
       "<style scoped>\n",
       "    .dataframe tbody tr th:only-of-type {\n",
       "        vertical-align: middle;\n",
       "    }\n",
       "\n",
       "    .dataframe tbody tr th {\n",
       "        vertical-align: top;\n",
       "    }\n",
       "\n",
       "    .dataframe thead th {\n",
       "        text-align: right;\n",
       "    }\n",
       "</style>\n",
       "<table border=\"1\" class=\"dataframe\">\n",
       "  <thead>\n",
       "    <tr style=\"text-align: right;\">\n",
       "      <th></th>\n",
       "      <th>actual</th>\n",
       "      <th>predicted</th>\n",
       "    </tr>\n",
       "  </thead>\n",
       "  <tbody>\n",
       "    <tr>\n",
       "      <th>3026</th>\n",
       "      <td>dont go tom</td>\n",
       "      <td>dont go tom</td>\n",
       "    </tr>\n",
       "    <tr>\n",
       "      <th>355</th>\n",
       "      <td>then what</td>\n",
       "      <td>dont it me</td>\n",
       "    </tr>\n",
       "    <tr>\n",
       "      <th>2348</th>\n",
       "      <td>tom painted this</td>\n",
       "      <td>tom has it</td>\n",
       "    </tr>\n",
       "    <tr>\n",
       "      <th>2686</th>\n",
       "      <td>ill protect tom</td>\n",
       "      <td>ill called tom</td>\n",
       "    </tr>\n",
       "    <tr>\n",
       "      <th>708</th>\n",
       "      <td>tom ate alone</td>\n",
       "      <td>tom looked me</td>\n",
       "    </tr>\n",
       "    <tr>\n",
       "      <th>3995</th>\n",
       "      <td>tom is breathing</td>\n",
       "      <td>tom is</td>\n",
       "    </tr>\n",
       "    <tr>\n",
       "      <th>484</th>\n",
       "      <td>her story is true</td>\n",
       "      <td>the is</td>\n",
       "    </tr>\n",
       "    <tr>\n",
       "      <th>308</th>\n",
       "      <td>what is love</td>\n",
       "      <td>what is to</td>\n",
       "    </tr>\n",
       "    <tr>\n",
       "      <th>1789</th>\n",
       "      <td>tom will follow</td>\n",
       "      <td>tom is</td>\n",
       "    </tr>\n",
       "    <tr>\n",
       "      <th>1742</th>\n",
       "      <td>that will do</td>\n",
       "      <td>its is</td>\n",
       "    </tr>\n",
       "  </tbody>\n",
       "</table>\n",
       "</div>"
      ],
      "text/plain": [
       "                 actual         predicted\n",
       "3026        dont go tom     dont go tom  \n",
       "355           then what      dont it me  \n",
       "2348   tom painted this      tom has it  \n",
       "2686    ill protect tom  ill called tom  \n",
       "708       tom ate alone   tom looked me  \n",
       "3995   tom is breathing         tom is   \n",
       "484   her story is true         the is   \n",
       "308        what is love      what is to  \n",
       "1789    tom will follow         tom is   \n",
       "1742       that will do         its is   "
      ]
     },
     "execution_count": 29,
     "metadata": {},
     "output_type": "execute_result"
    }
   ],
   "source": [
    "# Now put the original and predicted sentences in a dataframe and compare it.\n",
    "\n",
    "pred_df = pd.DataFrame({'actual':test[:,0], 'predicted':preds_text})    # DF of actual and predicted\n",
    "\n",
    "pred_df.sample(10)       # print some randomly "
   ]
  },
  {
   "cell_type": "markdown",
   "metadata": {},
   "source": [
    "#### Seq2Seq model does a good job. But there are several instances where it misses out on understanding the key words. I have taken 20000 sentences only. So, we can mitigate such challenges by using more training data and building a better (or more complex) model."
   ]
  }
 ],
 "metadata": {
  "kernelspec": {
   "display_name": "Python 3",
   "language": "python",
   "name": "python3"
  },
  "language_info": {
   "codemirror_mode": {
    "name": "ipython",
    "version": 3
   },
   "file_extension": ".py",
   "mimetype": "text/x-python",
   "name": "python",
   "nbconvert_exporter": "python",
   "pygments_lexer": "ipython3",
   "version": "3.6.8"
  }
 },
 "nbformat": 4,
 "nbformat_minor": 2
}
